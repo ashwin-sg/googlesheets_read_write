{
 "cells": [
  {
   "cell_type": "code",
   "execution_count": 1,
   "id": "f5976229",
   "metadata": {},
   "outputs": [
    {
     "name": "stdout",
     "output_type": "stream",
     "text": [
      "Collecting gspread\n",
      "  Downloading gspread-5.7.2-py3-none-any.whl (40 kB)\n",
      "Requirement already satisfied: google-auth>=1.12.0 in c:\\users\\ghonmas\\anaconda3\\lib\\site-packages (from gspread) (2.16.0)\n",
      "Requirement already satisfied: google-auth-oauthlib>=0.4.1 in c:\\users\\ghonmas\\anaconda3\\lib\\site-packages (from gspread) (0.8.0)\n",
      "Requirement already satisfied: six>=1.9.0 in c:\\users\\ghonmas\\anaconda3\\lib\\site-packages (from google-auth>=1.12.0->gspread) (1.15.0)\n",
      "Requirement already satisfied: pyasn1-modules>=0.2.1 in c:\\users\\ghonmas\\anaconda3\\lib\\site-packages (from google-auth>=1.12.0->gspread) (0.2.8)\n",
      "Requirement already satisfied: rsa<5,>=3.1.4 in c:\\users\\ghonmas\\anaconda3\\lib\\site-packages (from google-auth>=1.12.0->gspread) (4.9)\n",
      "Requirement already satisfied: cachetools<6.0,>=2.0.0 in c:\\users\\ghonmas\\anaconda3\\lib\\site-packages (from google-auth>=1.12.0->gspread) (5.2.1)\n",
      "Requirement already satisfied: requests-oauthlib>=0.7.0 in c:\\users\\ghonmas\\anaconda3\\lib\\site-packages (from google-auth-oauthlib>=0.4.1->gspread) (1.3.1)\n",
      "Requirement already satisfied: pyasn1<0.5.0,>=0.4.6 in c:\\users\\ghonmas\\anaconda3\\lib\\site-packages (from pyasn1-modules>=0.2.1->google-auth>=1.12.0->gspread) (0.4.8)\n",
      "Requirement already satisfied: requests>=2.0.0 in c:\\users\\ghonmas\\anaconda3\\lib\\site-packages (from requests-oauthlib>=0.7.0->google-auth-oauthlib>=0.4.1->gspread) (2.25.1)\n",
      "Requirement already satisfied: oauthlib>=3.0.0 in c:\\users\\ghonmas\\anaconda3\\lib\\site-packages (from requests-oauthlib>=0.7.0->google-auth-oauthlib>=0.4.1->gspread) (3.2.2)\n",
      "Requirement already satisfied: idna<3,>=2.5 in c:\\users\\ghonmas\\anaconda3\\lib\\site-packages (from requests>=2.0.0->requests-oauthlib>=0.7.0->google-auth-oauthlib>=0.4.1->gspread) (2.10)\n",
      "Requirement already satisfied: certifi>=2017.4.17 in c:\\users\\ghonmas\\anaconda3\\lib\\site-packages (from requests>=2.0.0->requests-oauthlib>=0.7.0->google-auth-oauthlib>=0.4.1->gspread) (2020.12.5)\n",
      "Requirement already satisfied: chardet<5,>=3.0.2 in c:\\users\\ghonmas\\anaconda3\\lib\\site-packages (from requests>=2.0.0->requests-oauthlib>=0.7.0->google-auth-oauthlib>=0.4.1->gspread) (4.0.0)\n",
      "Requirement already satisfied: urllib3<1.27,>=1.21.1 in c:\\users\\ghonmas\\anaconda3\\lib\\site-packages (from requests>=2.0.0->requests-oauthlib>=0.7.0->google-auth-oauthlib>=0.4.1->gspread) (1.26.4)\n",
      "Installing collected packages: gspread\n",
      "Successfully installed gspread-5.7.2\n",
      "Note: you may need to restart the kernel to use updated packages.\n"
     ]
    }
   ],
   "source": [
    "# install gspread, prefered to install it in a virtual environment\n",
    "# pip install gspread"
   ]
  },
  {
   "cell_type": "code",
   "execution_count": 2,
   "id": "faf5bc5e",
   "metadata": {},
   "outputs": [],
   "source": [
    "# import libraries \n",
    "\n",
    "import pandas as pd\n",
    "import gspread"
   ]
  },
  {
   "cell_type": "markdown",
   "id": "dff69ccb",
   "metadata": {},
   "source": [
    "## Import data from gsheet"
   ]
  },
  {
   "cell_type": "markdown",
   "id": "0e40c4d8",
   "metadata": {},
   "source": [
    "### 1st method to read gsheet in pandas"
   ]
  },
  {
   "cell_type": "code",
   "execution_count": 14,
   "id": "f508a11b",
   "metadata": {},
   "outputs": [],
   "source": [
    "#### assign id and sheet name to variables\n",
    "\n",
    "gsheet_id = '1Bp6Rw2gkg-y45vam9J5rka0X3l_TB_eXh_efhR8n9D4'\n",
    "sheet_name = 'Sheet1'"
   ]
  },
  {
   "cell_type": "code",
   "execution_count": 15,
   "id": "485b0a6e",
   "metadata": {},
   "outputs": [],
   "source": [
    "### prepare the link to take input as csv\n",
    "\n",
    "gsheet_url = 'https://docs.google.com/spreadsheets/d/{}/gviz/tq?tqx=out:csv&sheet={}'.format(gsheet_id,sheet_name)"
   ]
  },
  {
   "cell_type": "code",
   "execution_count": 16,
   "id": "d1d25afc",
   "metadata": {},
   "outputs": [
    {
     "data": {
      "text/plain": [
       "'https://docs.google.com/spreadsheets/d/1Bp6Rw2gkg-y45vam9J5rka0X3l_TB_eXh_efhR8n9D4/gviz/tq?tqx=out:csv&sheet=Sheet1'"
      ]
     },
     "execution_count": 16,
     "metadata": {},
     "output_type": "execute_result"
    }
   ],
   "source": [
    "## check the url prepared, running this url in browser will download the csv directly\n",
    "\n",
    "gsheet_url"
   ]
  },
  {
   "cell_type": "code",
   "execution_count": 21,
   "id": "96452d4c",
   "metadata": {},
   "outputs": [],
   "source": [
    "### read it in pandas dataframe\n",
    "\n",
    "df = pd.read_csv(gsheet_url)"
   ]
  },
  {
   "cell_type": "code",
   "execution_count": 22,
   "id": "adb3e884",
   "metadata": {},
   "outputs": [
    {
     "data": {
      "text/html": [
       "<div>\n",
       "<style scoped>\n",
       "    .dataframe tbody tr th:only-of-type {\n",
       "        vertical-align: middle;\n",
       "    }\n",
       "\n",
       "    .dataframe tbody tr th {\n",
       "        vertical-align: top;\n",
       "    }\n",
       "\n",
       "    .dataframe thead th {\n",
       "        text-align: right;\n",
       "    }\n",
       "</style>\n",
       "<table border=\"1\" class=\"dataframe\">\n",
       "  <thead>\n",
       "    <tr style=\"text-align: right;\">\n",
       "      <th></th>\n",
       "      <th>Roll_No</th>\n",
       "      <th>Marks</th>\n",
       "    </tr>\n",
       "  </thead>\n",
       "  <tbody>\n",
       "    <tr>\n",
       "      <th>0</th>\n",
       "      <td>1</td>\n",
       "      <td>67</td>\n",
       "    </tr>\n",
       "    <tr>\n",
       "      <th>1</th>\n",
       "      <td>2</td>\n",
       "      <td>52</td>\n",
       "    </tr>\n",
       "    <tr>\n",
       "      <th>2</th>\n",
       "      <td>3</td>\n",
       "      <td>69</td>\n",
       "    </tr>\n",
       "    <tr>\n",
       "      <th>3</th>\n",
       "      <td>4</td>\n",
       "      <td>71</td>\n",
       "    </tr>\n",
       "    <tr>\n",
       "      <th>4</th>\n",
       "      <td>5</td>\n",
       "      <td>65</td>\n",
       "    </tr>\n",
       "  </tbody>\n",
       "</table>\n",
       "</div>"
      ],
      "text/plain": [
       "   Roll_No  Marks\n",
       "0        1     67\n",
       "1        2     52\n",
       "2        3     69\n",
       "3        4     71\n",
       "4        5     65"
      ]
     },
     "execution_count": 22,
     "metadata": {},
     "output_type": "execute_result"
    }
   ],
   "source": [
    "### check the dataframe\n",
    "\n",
    "df"
   ]
  },
  {
   "cell_type": "code",
   "execution_count": null,
   "id": "6bcd1c53",
   "metadata": {},
   "outputs": [],
   "source": []
  },
  {
   "cell_type": "markdown",
   "id": "d74548f2",
   "metadata": {},
   "source": [
    "### 2nd method to read gsheet in pandas"
   ]
  },
  {
   "cell_type": "code",
   "execution_count": 36,
   "id": "23087b01",
   "metadata": {},
   "outputs": [],
   "source": [
    "# provide gsheet id directly in the link follwed by export option specifying the format\n",
    "\n",
    "df = pd.read_csv(f'https://docs.google.com/spreadsheets/d/{gsheet_id}/export?format=csv')"
   ]
  },
  {
   "cell_type": "code",
   "execution_count": 37,
   "id": "1684117c",
   "metadata": {},
   "outputs": [
    {
     "data": {
      "text/html": [
       "<div>\n",
       "<style scoped>\n",
       "    .dataframe tbody tr th:only-of-type {\n",
       "        vertical-align: middle;\n",
       "    }\n",
       "\n",
       "    .dataframe tbody tr th {\n",
       "        vertical-align: top;\n",
       "    }\n",
       "\n",
       "    .dataframe thead th {\n",
       "        text-align: right;\n",
       "    }\n",
       "</style>\n",
       "<table border=\"1\" class=\"dataframe\">\n",
       "  <thead>\n",
       "    <tr style=\"text-align: right;\">\n",
       "      <th></th>\n",
       "      <th>Roll_No</th>\n",
       "      <th>Marks</th>\n",
       "    </tr>\n",
       "  </thead>\n",
       "  <tbody>\n",
       "    <tr>\n",
       "      <th>0</th>\n",
       "      <td>1</td>\n",
       "      <td>67</td>\n",
       "    </tr>\n",
       "    <tr>\n",
       "      <th>1</th>\n",
       "      <td>2</td>\n",
       "      <td>52</td>\n",
       "    </tr>\n",
       "    <tr>\n",
       "      <th>2</th>\n",
       "      <td>3</td>\n",
       "      <td>69</td>\n",
       "    </tr>\n",
       "    <tr>\n",
       "      <th>3</th>\n",
       "      <td>4</td>\n",
       "      <td>71</td>\n",
       "    </tr>\n",
       "    <tr>\n",
       "      <th>4</th>\n",
       "      <td>5</td>\n",
       "      <td>65</td>\n",
       "    </tr>\n",
       "  </tbody>\n",
       "</table>\n",
       "</div>"
      ],
      "text/plain": [
       "   Roll_No  Marks\n",
       "0        1     67\n",
       "1        2     52\n",
       "2        3     69\n",
       "3        4     71\n",
       "4        5     65"
      ]
     },
     "execution_count": 37,
     "metadata": {},
     "output_type": "execute_result"
    }
   ],
   "source": [
    "# check the dataset\n",
    "\n",
    "df"
   ]
  },
  {
   "cell_type": "code",
   "execution_count": null,
   "id": "c6b8ddf0",
   "metadata": {},
   "outputs": [],
   "source": []
  },
  {
   "cell_type": "markdown",
   "id": "9359a681",
   "metadata": {},
   "source": [
    "### 3rd method using gspread API"
   ]
  },
  {
   "cell_type": "code",
   "execution_count": 10,
   "id": "df08d0d6",
   "metadata": {
    "scrolled": true
   },
   "outputs": [
    {
     "data": {
      "text/html": [
       "<div>\n",
       "<style scoped>\n",
       "    .dataframe tbody tr th:only-of-type {\n",
       "        vertical-align: middle;\n",
       "    }\n",
       "\n",
       "    .dataframe tbody tr th {\n",
       "        vertical-align: top;\n",
       "    }\n",
       "\n",
       "    .dataframe thead th {\n",
       "        text-align: right;\n",
       "    }\n",
       "</style>\n",
       "<table border=\"1\" class=\"dataframe\">\n",
       "  <thead>\n",
       "    <tr style=\"text-align: right;\">\n",
       "      <th></th>\n",
       "      <th>Name</th>\n",
       "      <th>Total Rating</th>\n",
       "      <th>Work &amp; Life Balance</th>\n",
       "      <th>Pay &amp; Benefits</th>\n",
       "      <th>JobSecurity &amp; Advancement</th>\n",
       "      <th>Management</th>\n",
       "      <th>Culture</th>\n",
       "      <th>Links</th>\n",
       "    </tr>\n",
       "  </thead>\n",
       "  <tbody>\n",
       "    <tr>\n",
       "      <th>0</th>\n",
       "      <td>Cascades in Canada</td>\n",
       "      <td>3.0</td>\n",
       "      <td>3.0</td>\n",
       "      <td>3.3</td>\n",
       "      <td>2.9</td>\n",
       "      <td>2.7</td>\n",
       "      <td>2.8</td>\n",
       "      <td>https://www.indeed.com/cmp/Cascades-5/reviews?...</td>\n",
       "    </tr>\n",
       "    <tr>\n",
       "      <th>1</th>\n",
       "      <td>Warner Bros. Entertainment</td>\n",
       "      <td>4.2</td>\n",
       "      <td>3.9</td>\n",
       "      <td>4.0</td>\n",
       "      <td>3.4</td>\n",
       "      <td>3.7</td>\n",
       "      <td>4.0</td>\n",
       "      <td>https://www.indeed.com/cmp/Warner-Bros.-Entert...</td>\n",
       "    </tr>\n",
       "    <tr>\n",
       "      <th>2</th>\n",
       "      <td>Paramount</td>\n",
       "      <td>3.9</td>\n",
       "      <td>3.8</td>\n",
       "      <td>3.5</td>\n",
       "      <td>3.2</td>\n",
       "      <td>3.5</td>\n",
       "      <td>3.8</td>\n",
       "      <td>https://www.indeed.com/cmp/Paramount-66ac57f4/...</td>\n",
       "    </tr>\n",
       "    <tr>\n",
       "      <th>3</th>\n",
       "      <td>Trinity Industries</td>\n",
       "      <td>3.7</td>\n",
       "      <td>3.5</td>\n",
       "      <td>3.7</td>\n",
       "      <td>3.2</td>\n",
       "      <td>3.3</td>\n",
       "      <td>3.5</td>\n",
       "      <td>https://www.indeed.com/cmp/Trinity-Industries/...</td>\n",
       "    </tr>\n",
       "    <tr>\n",
       "      <th>4</th>\n",
       "      <td>Carrier</td>\n",
       "      <td>3.8</td>\n",
       "      <td>3.6</td>\n",
       "      <td>3.8</td>\n",
       "      <td>3.3</td>\n",
       "      <td>3.4</td>\n",
       "      <td>3.6</td>\n",
       "      <td>https://www.indeed.com/cmp/Carrier/reviews</td>\n",
       "    </tr>\n",
       "  </tbody>\n",
       "</table>\n",
       "</div>"
      ],
      "text/plain": [
       "                         Name  Total Rating  Work & Life Balance  \\\n",
       "0          Cascades in Canada           3.0                  3.0   \n",
       "1  Warner Bros. Entertainment           4.2                  3.9   \n",
       "2                   Paramount           3.9                  3.8   \n",
       "3          Trinity Industries           3.7                  3.5   \n",
       "4                     Carrier           3.8                  3.6   \n",
       "\n",
       "   Pay & Benefits  JobSecurity & Advancement  Management  Culture  \\\n",
       "0             3.3                        2.9         2.7      2.8   \n",
       "1             4.0                        3.4         3.7      4.0   \n",
       "2             3.5                        3.2         3.5      3.8   \n",
       "3             3.7                        3.2         3.3      3.5   \n",
       "4             3.8                        3.3         3.4      3.6   \n",
       "\n",
       "                                               Links  \n",
       "0  https://www.indeed.com/cmp/Cascades-5/reviews?...  \n",
       "1  https://www.indeed.com/cmp/Warner-Bros.-Entert...  \n",
       "2  https://www.indeed.com/cmp/Paramount-66ac57f4/...  \n",
       "3  https://www.indeed.com/cmp/Trinity-Industries/...  \n",
       "4         https://www.indeed.com/cmp/Carrier/reviews  "
      ]
     },
     "execution_count": 10,
     "metadata": {},
     "output_type": "execute_result"
    }
   ],
   "source": [
    "# import gsrread librabry for connecting with gsheet api\n",
    "import gspread\n",
    "\n",
    "\n",
    "# provide sheet name and tab name to access\n",
    "SHEET_NAME = 'Indeed_Reviews_WebScraped'\n",
    "TAB_NAME = 'reviews_raw'\n",
    "\n",
    "# initialize the key access\n",
    "gc = gspread.service_account('keys.json')\n",
    "\n",
    "# provide the sheet to access\n",
    "sh = gc.open(\"Indeed_Reviews_WebScraped\")\n",
    "\n",
    "# preview the tab from the sheet\n",
    "worksheet = sh.worksheet('reviews_raw')\n",
    "\n",
    "# convert the into pandas dataframe\n",
    "df = pd.DataFrame(worksheet.get_all_records())\n",
    "\n",
    "# check the first five rows\n",
    "df.head()"
   ]
  },
  {
   "cell_type": "code",
   "execution_count": null,
   "id": "42f81d50",
   "metadata": {},
   "outputs": [],
   "source": []
  },
  {
   "cell_type": "markdown",
   "id": "38317519",
   "metadata": {},
   "source": [
    "### 4th method using gspread API (simple one)"
   ]
  },
  {
   "cell_type": "code",
   "execution_count": 27,
   "id": "51b78a99",
   "metadata": {},
   "outputs": [
    {
     "data": {
      "text/html": [
       "<div>\n",
       "<style scoped>\n",
       "    .dataframe tbody tr th:only-of-type {\n",
       "        vertical-align: middle;\n",
       "    }\n",
       "\n",
       "    .dataframe tbody tr th {\n",
       "        vertical-align: top;\n",
       "    }\n",
       "\n",
       "    .dataframe thead th {\n",
       "        text-align: right;\n",
       "    }\n",
       "</style>\n",
       "<table border=\"1\" class=\"dataframe\">\n",
       "  <thead>\n",
       "    <tr style=\"text-align: right;\">\n",
       "      <th></th>\n",
       "      <th>Name</th>\n",
       "      <th>Total Rating</th>\n",
       "      <th>Work &amp; Life Balance</th>\n",
       "      <th>Pay &amp; Benefits</th>\n",
       "      <th>JobSecurity &amp; Advancement</th>\n",
       "      <th>Management</th>\n",
       "      <th>Culture</th>\n",
       "      <th>Links</th>\n",
       "    </tr>\n",
       "  </thead>\n",
       "  <tbody>\n",
       "    <tr>\n",
       "      <th>0</th>\n",
       "      <td>Cascades in Canada</td>\n",
       "      <td>3.0</td>\n",
       "      <td>3.0</td>\n",
       "      <td>3.3</td>\n",
       "      <td>2.9</td>\n",
       "      <td>2.7</td>\n",
       "      <td>2.8</td>\n",
       "      <td>https://www.indeed.com/cmp/Cascades-5/reviews?...</td>\n",
       "    </tr>\n",
       "    <tr>\n",
       "      <th>1</th>\n",
       "      <td>Warner Bros. Entertainment</td>\n",
       "      <td>4.2</td>\n",
       "      <td>3.9</td>\n",
       "      <td>4.0</td>\n",
       "      <td>3.4</td>\n",
       "      <td>3.7</td>\n",
       "      <td>4.0</td>\n",
       "      <td>https://www.indeed.com/cmp/Warner-Bros.-Entert...</td>\n",
       "    </tr>\n",
       "    <tr>\n",
       "      <th>2</th>\n",
       "      <td>Paramount</td>\n",
       "      <td>3.9</td>\n",
       "      <td>3.8</td>\n",
       "      <td>3.5</td>\n",
       "      <td>3.2</td>\n",
       "      <td>3.5</td>\n",
       "      <td>3.8</td>\n",
       "      <td>https://www.indeed.com/cmp/Paramount-66ac57f4/...</td>\n",
       "    </tr>\n",
       "    <tr>\n",
       "      <th>3</th>\n",
       "      <td>Trinity Industries</td>\n",
       "      <td>3.7</td>\n",
       "      <td>3.5</td>\n",
       "      <td>3.7</td>\n",
       "      <td>3.2</td>\n",
       "      <td>3.3</td>\n",
       "      <td>3.5</td>\n",
       "      <td>https://www.indeed.com/cmp/Trinity-Industries/...</td>\n",
       "    </tr>\n",
       "    <tr>\n",
       "      <th>4</th>\n",
       "      <td>Carrier</td>\n",
       "      <td>3.8</td>\n",
       "      <td>3.6</td>\n",
       "      <td>3.8</td>\n",
       "      <td>3.3</td>\n",
       "      <td>3.4</td>\n",
       "      <td>3.6</td>\n",
       "      <td>https://www.indeed.com/cmp/Carrier/reviews</td>\n",
       "    </tr>\n",
       "  </tbody>\n",
       "</table>\n",
       "</div>"
      ],
      "text/plain": [
       "                         Name  Total Rating  Work & Life Balance  \\\n",
       "0          Cascades in Canada           3.0                  3.0   \n",
       "1  Warner Bros. Entertainment           4.2                  3.9   \n",
       "2                   Paramount           3.9                  3.8   \n",
       "3          Trinity Industries           3.7                  3.5   \n",
       "4                     Carrier           3.8                  3.6   \n",
       "\n",
       "   Pay & Benefits  JobSecurity & Advancement  Management  Culture  \\\n",
       "0             3.3                        2.9         2.7      2.8   \n",
       "1             4.0                        3.4         3.7      4.0   \n",
       "2             3.5                        3.2         3.5      3.8   \n",
       "3             3.7                        3.2         3.3      3.5   \n",
       "4             3.8                        3.3         3.4      3.6   \n",
       "\n",
       "                                               Links  \n",
       "0  https://www.indeed.com/cmp/Cascades-5/reviews?...  \n",
       "1  https://www.indeed.com/cmp/Warner-Bros.-Entert...  \n",
       "2  https://www.indeed.com/cmp/Paramount-66ac57f4/...  \n",
       "3  https://www.indeed.com/cmp/Trinity-Industries/...  \n",
       "4         https://www.indeed.com/cmp/Carrier/reviews  "
      ]
     },
     "execution_count": 27,
     "metadata": {},
     "output_type": "execute_result"
    }
   ],
   "source": [
    "# provide the keys\n",
    "gc = gspread.service_account('keys.json')\n",
    "\n",
    "# provide the sheet name\n",
    "sh = gc.open(SHEET_NAME)\n",
    "\n",
    "# convert the sheet into pandas dataframe\n",
    "data = pd.DataFrame(sh.sheet1.get_all_records())\n",
    "\n",
    "# check the first five rows\n",
    "data.head()"
   ]
  },
  {
   "cell_type": "code",
   "execution_count": null,
   "id": "e0f44fd0",
   "metadata": {},
   "outputs": [],
   "source": []
  },
  {
   "cell_type": "markdown",
   "id": "b09a7f5a",
   "metadata": {},
   "source": [
    "## Load data into gsheet"
   ]
  },
  {
   "cell_type": "code",
   "execution_count": 30,
   "id": "b3fcd48f",
   "metadata": {},
   "outputs": [
    {
     "name": "stdout",
     "output_type": "stream",
     "text": [
      "Collecting gspread-dataframe\n",
      "  Downloading gspread_dataframe-3.3.0-py2.py3-none-any.whl (7.9 kB)\n",
      "Requirement already satisfied: pandas>=0.24.0 in c:\\users\\ghonmas\\appdata\\roaming\\python\\python38\\site-packages (from gspread-dataframe) (1.5.0)\n",
      "Requirement already satisfied: six>=1.12.0 in c:\\users\\ghonmas\\anaconda3\\lib\\site-packages (from gspread-dataframe) (1.15.0)\n",
      "Requirement already satisfied: gspread>=3.0.0 in c:\\users\\ghonmas\\anaconda3\\lib\\site-packages (from gspread-dataframe) (5.7.2)\n",
      "Requirement already satisfied: google-auth-oauthlib>=0.4.1 in c:\\users\\ghonmas\\anaconda3\\lib\\site-packages (from gspread>=3.0.0->gspread-dataframe) (0.8.0)\n",
      "Requirement already satisfied: google-auth>=1.12.0 in c:\\users\\ghonmas\\anaconda3\\lib\\site-packages (from gspread>=3.0.0->gspread-dataframe) (2.16.0)\n",
      "Requirement already satisfied: rsa<5,>=3.1.4 in c:\\users\\ghonmas\\anaconda3\\lib\\site-packages (from google-auth>=1.12.0->gspread>=3.0.0->gspread-dataframe) (4.9)\n",
      "Requirement already satisfied: cachetools<6.0,>=2.0.0 in c:\\users\\ghonmas\\anaconda3\\lib\\site-packages (from google-auth>=1.12.0->gspread>=3.0.0->gspread-dataframe) (5.2.1)\n",
      "Requirement already satisfied: pyasn1-modules>=0.2.1 in c:\\users\\ghonmas\\anaconda3\\lib\\site-packages (from google-auth>=1.12.0->gspread>=3.0.0->gspread-dataframe) (0.2.8)\n",
      "Requirement already satisfied: requests-oauthlib>=0.7.0 in c:\\users\\ghonmas\\anaconda3\\lib\\site-packages (from google-auth-oauthlib>=0.4.1->gspread>=3.0.0->gspread-dataframe) (1.3.1)\n",
      "Requirement already satisfied: pytz>=2020.1 in c:\\users\\ghonmas\\anaconda3\\lib\\site-packages (from pandas>=0.24.0->gspread-dataframe) (2021.1)\n",
      "Requirement already satisfied: python-dateutil>=2.8.1 in c:\\users\\ghonmas\\anaconda3\\lib\\site-packages (from pandas>=0.24.0->gspread-dataframe) (2.8.1)\n",
      "Requirement already satisfied: numpy>=1.20.3 in c:\\users\\ghonmas\\anaconda3\\lib\\site-packages (from pandas>=0.24.0->gspread-dataframe) (1.23.3)\n",
      "Requirement already satisfied: pyasn1<0.5.0,>=0.4.6 in c:\\users\\ghonmas\\anaconda3\\lib\\site-packages (from pyasn1-modules>=0.2.1->google-auth>=1.12.0->gspread>=3.0.0->gspread-dataframe) (0.4.8)\n",
      "Requirement already satisfied: oauthlib>=3.0.0 in c:\\users\\ghonmas\\anaconda3\\lib\\site-packages (from requests-oauthlib>=0.7.0->google-auth-oauthlib>=0.4.1->gspread>=3.0.0->gspread-dataframe) (3.2.2)\n",
      "Requirement already satisfied: requests>=2.0.0 in c:\\users\\ghonmas\\anaconda3\\lib\\site-packages (from requests-oauthlib>=0.7.0->google-auth-oauthlib>=0.4.1->gspread>=3.0.0->gspread-dataframe) (2.25.1)\n",
      "Requirement already satisfied: chardet<5,>=3.0.2 in c:\\users\\ghonmas\\anaconda3\\lib\\site-packages (from requests>=2.0.0->requests-oauthlib>=0.7.0->google-auth-oauthlib>=0.4.1->gspread>=3.0.0->gspread-dataframe) (4.0.0)\n",
      "Requirement already satisfied: certifi>=2017.4.17 in c:\\users\\ghonmas\\anaconda3\\lib\\site-packages (from requests>=2.0.0->requests-oauthlib>=0.7.0->google-auth-oauthlib>=0.4.1->gspread>=3.0.0->gspread-dataframe) (2020.12.5)\n",
      "Requirement already satisfied: idna<3,>=2.5 in c:\\users\\ghonmas\\anaconda3\\lib\\site-packages (from requests>=2.0.0->requests-oauthlib>=0.7.0->google-auth-oauthlib>=0.4.1->gspread>=3.0.0->gspread-dataframe) (2.10)\n",
      "Requirement already satisfied: urllib3<1.27,>=1.21.1 in c:\\users\\ghonmas\\anaconda3\\lib\\site-packages (from requests>=2.0.0->requests-oauthlib>=0.7.0->google-auth-oauthlib>=0.4.1->gspread>=3.0.0->gspread-dataframe) (1.26.4)\n",
      "Installing collected packages: gspread-dataframe\n",
      "Successfully installed gspread-dataframe-3.3.0\n"
     ]
    }
   ],
   "source": [
    "# install for loading data into gsheets\n",
    "\n",
    "# !pip install gspread-dataframe"
   ]
  },
  {
   "cell_type": "code",
   "execution_count": 31,
   "id": "f782bada",
   "metadata": {},
   "outputs": [],
   "source": [
    "# import libraries\n",
    "\n",
    "import pandas as pd\n",
    "from gspread_dataframe import get_as_dataframe, set_with_dataframe"
   ]
  },
  {
   "cell_type": "code",
   "execution_count": 33,
   "id": "dcb3f5ec",
   "metadata": {},
   "outputs": [],
   "source": [
    "# create a copy of data imported on which further operation will be performed\n",
    "\n",
    "data = df.copy()"
   ]
  },
  {
   "cell_type": "code",
   "execution_count": 35,
   "id": "9570ecff",
   "metadata": {},
   "outputs": [],
   "source": [
    "# add a new column last_updated in the sheet\n",
    "\n",
    "data['Last_Updated'] = pd.Timestamp.now()"
   ]
  },
  {
   "cell_type": "code",
   "execution_count": 36,
   "id": "35734fb5",
   "metadata": {},
   "outputs": [
    {
     "data": {
      "text/html": [
       "<div>\n",
       "<style scoped>\n",
       "    .dataframe tbody tr th:only-of-type {\n",
       "        vertical-align: middle;\n",
       "    }\n",
       "\n",
       "    .dataframe tbody tr th {\n",
       "        vertical-align: top;\n",
       "    }\n",
       "\n",
       "    .dataframe thead th {\n",
       "        text-align: right;\n",
       "    }\n",
       "</style>\n",
       "<table border=\"1\" class=\"dataframe\">\n",
       "  <thead>\n",
       "    <tr style=\"text-align: right;\">\n",
       "      <th></th>\n",
       "      <th>Name</th>\n",
       "      <th>Total Rating</th>\n",
       "      <th>Work &amp; Life Balance</th>\n",
       "      <th>Pay &amp; Benefits</th>\n",
       "      <th>JobSecurity &amp; Advancement</th>\n",
       "      <th>Management</th>\n",
       "      <th>Culture</th>\n",
       "      <th>Links</th>\n",
       "      <th>Last_Updated</th>\n",
       "    </tr>\n",
       "  </thead>\n",
       "  <tbody>\n",
       "    <tr>\n",
       "      <th>0</th>\n",
       "      <td>Cascades in Canada</td>\n",
       "      <td>3.0</td>\n",
       "      <td>3.0</td>\n",
       "      <td>3.3</td>\n",
       "      <td>2.9</td>\n",
       "      <td>2.7</td>\n",
       "      <td>2.8</td>\n",
       "      <td>https://www.indeed.com/cmp/Cascades-5/reviews?...</td>\n",
       "      <td>2023-02-07 18:43:05.992965</td>\n",
       "    </tr>\n",
       "    <tr>\n",
       "      <th>1</th>\n",
       "      <td>Warner Bros. Entertainment</td>\n",
       "      <td>4.2</td>\n",
       "      <td>3.9</td>\n",
       "      <td>4.0</td>\n",
       "      <td>3.4</td>\n",
       "      <td>3.7</td>\n",
       "      <td>4.0</td>\n",
       "      <td>https://www.indeed.com/cmp/Warner-Bros.-Entert...</td>\n",
       "      <td>2023-02-07 18:43:05.992965</td>\n",
       "    </tr>\n",
       "    <tr>\n",
       "      <th>2</th>\n",
       "      <td>Paramount</td>\n",
       "      <td>3.9</td>\n",
       "      <td>3.8</td>\n",
       "      <td>3.5</td>\n",
       "      <td>3.2</td>\n",
       "      <td>3.5</td>\n",
       "      <td>3.8</td>\n",
       "      <td>https://www.indeed.com/cmp/Paramount-66ac57f4/...</td>\n",
       "      <td>2023-02-07 18:43:05.992965</td>\n",
       "    </tr>\n",
       "    <tr>\n",
       "      <th>3</th>\n",
       "      <td>Trinity Industries</td>\n",
       "      <td>3.7</td>\n",
       "      <td>3.5</td>\n",
       "      <td>3.7</td>\n",
       "      <td>3.2</td>\n",
       "      <td>3.3</td>\n",
       "      <td>3.5</td>\n",
       "      <td>https://www.indeed.com/cmp/Trinity-Industries/...</td>\n",
       "      <td>2023-02-07 18:43:05.992965</td>\n",
       "    </tr>\n",
       "    <tr>\n",
       "      <th>4</th>\n",
       "      <td>Carrier</td>\n",
       "      <td>3.8</td>\n",
       "      <td>3.6</td>\n",
       "      <td>3.8</td>\n",
       "      <td>3.3</td>\n",
       "      <td>3.4</td>\n",
       "      <td>3.6</td>\n",
       "      <td>https://www.indeed.com/cmp/Carrier/reviews</td>\n",
       "      <td>2023-02-07 18:43:05.992965</td>\n",
       "    </tr>\n",
       "  </tbody>\n",
       "</table>\n",
       "</div>"
      ],
      "text/plain": [
       "                         Name  Total Rating  Work & Life Balance  \\\n",
       "0          Cascades in Canada           3.0                  3.0   \n",
       "1  Warner Bros. Entertainment           4.2                  3.9   \n",
       "2                   Paramount           3.9                  3.8   \n",
       "3          Trinity Industries           3.7                  3.5   \n",
       "4                     Carrier           3.8                  3.6   \n",
       "\n",
       "   Pay & Benefits  JobSecurity & Advancement  Management  Culture  \\\n",
       "0             3.3                        2.9         2.7      2.8   \n",
       "1             4.0                        3.4         3.7      4.0   \n",
       "2             3.5                        3.2         3.5      3.8   \n",
       "3             3.7                        3.2         3.3      3.5   \n",
       "4             3.8                        3.3         3.4      3.6   \n",
       "\n",
       "                                               Links  \\\n",
       "0  https://www.indeed.com/cmp/Cascades-5/reviews?...   \n",
       "1  https://www.indeed.com/cmp/Warner-Bros.-Entert...   \n",
       "2  https://www.indeed.com/cmp/Paramount-66ac57f4/...   \n",
       "3  https://www.indeed.com/cmp/Trinity-Industries/...   \n",
       "4         https://www.indeed.com/cmp/Carrier/reviews   \n",
       "\n",
       "                Last_Updated  \n",
       "0 2023-02-07 18:43:05.992965  \n",
       "1 2023-02-07 18:43:05.992965  \n",
       "2 2023-02-07 18:43:05.992965  \n",
       "3 2023-02-07 18:43:05.992965  \n",
       "4 2023-02-07 18:43:05.992965  "
      ]
     },
     "execution_count": 36,
     "metadata": {},
     "output_type": "execute_result"
    }
   ],
   "source": [
    "# check the head if the new column appears\n",
    "\n",
    "data.head()"
   ]
  },
  {
   "cell_type": "code",
   "execution_count": 37,
   "id": "acbb2538",
   "metadata": {},
   "outputs": [],
   "source": [
    "# provide sheet name and tab name to write data\n",
    "SHEET_NAME = 'Indeed_Reviews_WebScraped'\n",
    "TAB_NAME = 'output_reviews_for_use'\n",
    "\n",
    "# initialize the key access\n",
    "gc = gspread.service_account('keys.json')\n",
    "\n",
    "# provide the sheet to access\n",
    "sh = gc.open(\"Indeed_Reviews_WebScraped\")\n",
    "\n",
    "# preview the tab from the sheet\n",
    "worksheet = sh.worksheet('output_reviews_for_use')\n",
    "\n",
    "# writes backs the pandas dataframe to gsheets\n",
    "set_with_dataframe(worksheet, data)"
   ]
  },
  {
   "cell_type": "markdown",
   "id": "43b72fb3",
   "metadata": {},
   "source": [
    "#### Checked the googlesheet and the data is there "
   ]
  },
  {
   "cell_type": "markdown",
   "id": "0f294c5c",
   "metadata": {},
   "source": [
    "### We're Done!"
   ]
  },
  {
   "cell_type": "code",
   "execution_count": null,
   "id": "6ba88cbd",
   "metadata": {},
   "outputs": [],
   "source": []
  },
  {
   "cell_type": "code",
   "execution_count": null,
   "id": "3ba59cdd",
   "metadata": {},
   "outputs": [],
   "source": []
  },
  {
   "cell_type": "code",
   "execution_count": null,
   "id": "90fdba72",
   "metadata": {},
   "outputs": [],
   "source": []
  },
  {
   "cell_type": "markdown",
   "id": "2120ba17",
   "metadata": {},
   "source": [
    "## Version check"
   ]
  },
  {
   "cell_type": "code",
   "execution_count": 29,
   "id": "08e81a5f",
   "metadata": {},
   "outputs": [
    {
     "name": "stdout",
     "output_type": "stream",
     "text": [
      "3.8.8\n"
     ]
    }
   ],
   "source": [
    "import platform\n",
    "\n",
    "print(platform.python_version())"
   ]
  },
  {
   "cell_type": "code",
   "execution_count": 35,
   "id": "857c6a5a",
   "metadata": {},
   "outputs": [
    {
     "name": "stdout",
     "output_type": "stream",
     "text": [
      "\n",
      "INSTALLED VERSIONS\n",
      "------------------\n",
      "commit           : 87cfe4e38bafe7300a6003a1d18bd80f3f77c763\n",
      "python           : 3.8.8.final.0\n",
      "python-bits      : 64\n",
      "OS               : Windows\n",
      "OS-release       : 10\n",
      "Version          : 10.0.18362\n",
      "machine          : AMD64\n",
      "processor        : Intel64 Family 6 Model 140 Stepping 1, GenuineIntel\n",
      "byteorder        : little\n",
      "LC_ALL           : None\n",
      "LANG             : None\n",
      "LOCALE           : English_India.1252\n",
      "\n",
      "pandas           : 1.5.0\n",
      "numpy            : 1.23.3\n",
      "pytz             : 2021.1\n",
      "dateutil         : 2.8.1\n",
      "setuptools       : 52.0.0.post20210125\n",
      "pip              : 21.0.1\n",
      "Cython           : 0.29.23\n",
      "pytest           : 5.4.3\n",
      "hypothesis       : None\n",
      "sphinx           : 4.0.1\n",
      "blosc            : None\n",
      "feather          : None\n",
      "xlsxwriter       : 1.3.8\n",
      "lxml.etree       : 4.6.3\n",
      "html5lib         : 1.1\n",
      "pymysql          : None\n",
      "psycopg2         : None\n",
      "jinja2           : 3.0.3\n",
      "IPython          : 7.22.0\n",
      "pandas_datareader: None\n",
      "bs4              : 4.9.3\n",
      "bottleneck       : 1.3.2\n",
      "brotli           : \n",
      "fastparquet      : None\n",
      "fsspec           : 0.9.0\n",
      "gcsfs            : None\n",
      "matplotlib       : 3.3.4\n",
      "numba            : 0.53.1\n",
      "numexpr          : 2.7.3\n",
      "odfpy            : None\n",
      "openpyxl         : 3.0.7\n",
      "pandas_gbq       : 0.19.0\n",
      "pyarrow          : 10.0.1\n",
      "pyreadstat       : None\n",
      "pyxlsb           : None\n",
      "s3fs             : None\n",
      "scipy            : 1.9.1\n",
      "snappy           : None\n",
      "sqlalchemy       : 1.3.24\n",
      "tables           : 3.6.1\n",
      "tabulate         : None\n",
      "xarray           : None\n",
      "xlrd             : 1.2.0\n",
      "xlwt             : 1.3.0\n",
      "zstandard        : None\n",
      "tzdata           : None\n"
     ]
    }
   ],
   "source": [
    "pd.show_versions()"
   ]
  },
  {
   "cell_type": "code",
   "execution_count": null,
   "id": "c8e95ebf",
   "metadata": {},
   "outputs": [],
   "source": []
  }
 ],
 "metadata": {
  "kernelspec": {
   "display_name": "Python 3",
   "language": "python",
   "name": "python3"
  },
  "language_info": {
   "codemirror_mode": {
    "name": "ipython",
    "version": 3
   },
   "file_extension": ".py",
   "mimetype": "text/x-python",
   "name": "python",
   "nbconvert_exporter": "python",
   "pygments_lexer": "ipython3",
   "version": "3.8.8"
  }
 },
 "nbformat": 4,
 "nbformat_minor": 5
}
